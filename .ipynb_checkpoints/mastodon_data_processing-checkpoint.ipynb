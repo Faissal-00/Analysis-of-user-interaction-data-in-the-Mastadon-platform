{
 "cells": [
  {
   "cell_type": "code",
   "execution_count": null,
   "id": "976b0429",
   "metadata": {},
   "outputs": [],
   "source": [
    "from airflow import DAG\n",
    "from airflow.operators.bash_operator import BashOperator\n",
    "from airflow.operators.python_operator import PythonOperator\n",
    "from datetime import datetime\n",
    "from airflow.utils.dates import days_ago\n",
    "\n",
    "# Define the base path\n",
    "base_path = '\\home\\projet'\n",
    "\n",
    "# Define default_args\n",
    "default_args = {\n",
    "    'owner': 'admin',\n",
    "    'start_date': datetime(2023, 10, 25),\n",
    "    'retries': 1,\n",
    "}\n",
    "\n",
    "# Create a DAG\n",
    "dag = DAG(\n",
    "    'mastodon_data_processing',\n",
    "    default_args=default_args,\n",
    "    schedule_interval=None,  # Set your desired schedule interval\n",
    "    catchup=False,\n",
    ")\n",
    "\n",
    "# Task to run the data collection script\n",
    "collect_data_task = BashOperator(\n",
    "    task_id='collect_data',\n",
    "    bash_command=f'python3 {base_path}/Collecting.py',\n",
    "    dag=dag,\n",
    ")\n",
    "\n",
    "# Task to run the Hadoop MapReduce job\n",
    "mapreduce_task = BashOperator(\n",
    "    task_id='run_mapreduce',\n",
    "    bash_command=f'hadoop jar $HADOOP_HOME/share/hadoop/tools/lib/hadoop-streaming-*.jar -files {base_path}/mapper.py,{base_path}/reducer.py -mapper \"python3 {base_path}/mapper.py\" -reducer \"python3 {base_path}/reducer.py\" -input /Mostodon/Raw/mastodon_dataaa_2023-10-24.json -output /output/ReducerResulttt',\n",
    "    dag=dag,\n",
    ")\n",
    "\n",
    "# Task to start the HBase Thrift server\n",
    "start_thrift_task = BashOperator(\n",
    "    task_id='start_thrift',\n",
    "    bash_command='/usr/local/Hbase/bin/hbase-daemon.sh start thrift',\n",
    "    dag=dag,\n",
    ")\n",
    "\n",
    "# Task to create HBase tables\n",
    "create_hbase_tables_task = BashOperator(\n",
    "    task_id='create_hbase_tables',\n",
    "    bash_command=f'/usr/local/Hbase/bin/hbase shell -n {base_path}/create_tables.hbase',\n",
    "    dag=dag,\n",
    ")\n",
    "\n",
    "# Task to run the HBase script\n",
    "hbase_script_task = BashOperator(\n",
    "    task_id='run_hbase_script',\n",
    "    bash_command=f'python3 {base_path}/hbase_script.py',\n",
    "    dag=dag,\n",
    ")\n",
    "\n",
    "# Set task dependencies\n",
    "collect_data_task >> mapreduce_task >> start_thrift_task >> create_hbase_tables_task >> hbase_script_task\n",
    "\n",
    "if __name__ == \"__main__\":\n",
    "    dag.cli()"
   ]
  }
 ],
 "metadata": {
  "kernelspec": {
   "display_name": "Python 3 (ipykernel)",
   "language": "python",
   "name": "python3"
  },
  "language_info": {
   "codemirror_mode": {
    "name": "ipython",
    "version": 3
   },
   "file_extension": ".py",
   "mimetype": "text/x-python",
   "name": "python",
   "nbconvert_exporter": "python",
   "pygments_lexer": "ipython3",
   "version": "3.11.3"
  },
  "vp": {
   "vp_config_version": "1.0.0",
   "vp_menu_width": 273,
   "vp_note_display": false,
   "vp_note_width": 0,
   "vp_position": {
    "width": 278
   },
   "vp_section_display": false,
   "vp_signature": "VisualPython"
  }
 },
 "nbformat": 4,
 "nbformat_minor": 5
}
