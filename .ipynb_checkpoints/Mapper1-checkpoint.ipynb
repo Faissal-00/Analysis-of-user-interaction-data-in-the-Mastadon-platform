{
 "cells": [
  {
   "cell_type": "code",
   "execution_count": null,
   "id": "9e0efa0b",
   "metadata": {},
   "outputs": [],
   "source": [
    "import json\n",
    "from hdfs import InsecureClient\n",
    "\n",
    "# Initialize an HDFS client\n",
    "hdfs_client = InsecureClient('http://172.26.139.82:9870', user='hadoop')\n",
    "\n",
    "# Define the HDFS path where your data is stored\n",
    "hdfs_path = '/raw/2023-10-20/11-30/mastodon.txt'  # Update with your actual HDFS path\n",
    "\n",
    "# Read the data from HDFS\n",
    "with hdfs_client.read(hdfs_path) as reader:\n",
    "    data = reader.read()\n",
    "\n",
    "# Assuming that the data is in JSON format, you can parse it\n",
    "public_posts = [json.loads(line) for line in data.decode('utf-8').split('\\n') if line]\n",
    "\n",
    "# Define a Map function to extract user IDs and their followers count\n",
    "def map_function(post):\n",
    "    username = post['username']\n",
    "    followers_count = post['account_followers_count']\n",
    "    return user_id, followers_count\n",
    "\n",
    "# Apply the Map function to the data and print key-value pairs\n",
    "for post in public_posts:\n",
    "    user_id, followers_count = map_function(post)\n",
    "    print(f\"{user_id}\\t{followers_count}\")  # Print (key, value) pairs"
   ]
  }
 ],
 "metadata": {
  "kernelspec": {
   "display_name": "Python 3 (ipykernel)",
   "language": "python",
   "name": "python3"
  },
  "language_info": {
   "codemirror_mode": {
    "name": "ipython",
    "version": 3
   },
   "file_extension": ".py",
   "mimetype": "text/x-python",
   "name": "python",
   "nbconvert_exporter": "python",
   "pygments_lexer": "ipython3",
   "version": "3.11.3"
  },
  "vp": {
   "vp_config_version": "1.0.0",
   "vp_menu_width": 273,
   "vp_note_display": false,
   "vp_note_width": 0,
   "vp_position": {
    "width": 278
   },
   "vp_section_display": false,
   "vp_signature": "VisualPython"
  }
 },
 "nbformat": 4,
 "nbformat_minor": 5
}
