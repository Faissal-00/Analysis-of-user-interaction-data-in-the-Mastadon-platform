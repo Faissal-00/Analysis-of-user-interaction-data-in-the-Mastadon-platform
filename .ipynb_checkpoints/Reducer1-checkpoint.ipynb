{
 "cells": [
  {
   "cell_type": "code",
   "execution_count": 2,
   "id": "b64079ad",
   "metadata": {},
   "outputs": [],
   "source": [
    "import happybase\n",
    "\n",
    "# Define the HBase connection\n",
    "connection = happybase.Connection('localhost')  # Update with your HBase host\n",
    "table_name = 'Users_Followers'  # Update with your HBase table name\n",
    "\n",
    "# Open the table\n",
    "table = connection.table(table_name)\n",
    "\n",
    "# Define a function to insert data into HBase\n",
    "def insert_data(table, key, data):\n",
    "    table.put(key, data)\n",
    "\n",
    "# Parse and insert the key-value pairs into HBase\n",
    "for line in public_posts:\n",
    "    user_id, followers_count = map_function(line)\n",
    "    \n",
    "    # Construct the data dictionary\n",
    "    data = {\n",
    "        b'followers:count': str(followers_count).encode('utf-8')\n",
    "    }\n",
    "    \n",
    "    insert_data(table, str(user_id).encode('utf-8'), data)\n",
    "\n",
    "# Close the HBase connection\n",
    "connection.close()\n",
    "\n",
    "print(\"Data has been inserted into the HBase table:\", table_name)"
   ]
  }
 ],
 "metadata": {
  "kernelspec": {
   "display_name": "Python 3 (ipykernel)",
   "language": "python",
   "name": "python3"
  },
  "language_info": {
   "codemirror_mode": {
    "name": "ipython",
    "version": 3
   },
   "file_extension": ".py",
   "mimetype": "text/x-python",
   "name": "python",
   "nbconvert_exporter": "python",
   "pygments_lexer": "ipython3",
   "version": "3.11.3"
  },
  "vp": {
   "vp_config_version": "1.0.0",
   "vp_menu_width": 273,
   "vp_note_display": false,
   "vp_note_width": 0,
   "vp_position": {
    "width": 278
   },
   "vp_section_display": false,
   "vp_signature": "VisualPython"
  }
 },
 "nbformat": 4,
 "nbformat_minor": 5
}
