{
 "cells": [
  {
   "cell_type": "code",
   "execution_count": null,
   "id": "c476aacc",
   "metadata": {},
   "outputs": [
    {
     "name": "stdout",
     "output_type": "stream",
     "text": [
      "Number of posts retrieved:  2413\r"
     ]
    }
   ],
   "source": [
    "from mastodon import Mastodon\n",
    "from dotenv import load_dotenv\n",
    "import os\n",
    "from hdfs import InsecureClient\n",
    "import datetime\n",
    "import json\n",
    "\n",
    "load_dotenv()\n",
    "\n",
    "# Connect to the mastodon API\n",
    "mastodon = Mastodon(\n",
    "    client_id=os.getenv('MASTODON_CLIENT_ID'),\n",
    "    client_secret=os.getenv('MASTODON_CLIENT_SECRET'),\n",
    "    access_token=os.getenv('MASTODON_ACCESS_TOKEN'),\n",
    "    api_base_url=\"https://mastodon.social\"\n",
    ")\n",
    "\n",
    "# Initialize an HDFS client\n",
    "hdfs_client = InsecureClient(os.getenv('HDFS_CLIENT_URL'), user=os.getenv('HDFS_CLIENT_USER'))\n",
    "\n",
    "# Get current date and time\n",
    "now = datetime.datetime.now()\n",
    "directory_path = '/raw/' + str(now.year) + '-' + str(now.month) + '-' + str(now.day)\n",
    "\n",
    "# Check if the directory already exists\n",
    "if not hdfs_client.status(directory_path, strict=False):\n",
    "    hdfs_client.makedirs(directory_path)\n",
    "\n",
    "# Define the HDFS path where you want to save the data\n",
    "hdfs_path = directory_path + '/' + str(now.hour) + '-' + str(now.minute) + '/mastodon.txt'\n",
    "\n",
    "last_toot_id = None\n",
    "public_posts = []\n",
    "\n",
    "# Specify the number of runs\n",
    "n = 100\n",
    "\n",
    "for _ in range(n):\n",
    "    # Retrieve public posts\n",
    "    new = mastodon.timeline_public(limit=40, since_id=last_toot_id)\n",
    "    \n",
    "    # Append the current run's public posts to the list\n",
    "    public_posts.extend(new)\n",
    "    print(f'Number of posts retrieved:  {str(len(public_posts))}' , end='\\r')\n",
    "    \n",
    "    # Update the last_toot_id\n",
    "    if public_posts:\n",
    "        latest_toot = public_posts[0]\n",
    "        last_toot_id = str(latest_toot['id'])\n",
    "\n",
    "# Create a text file to store the selected columns as JSON objects\n",
    "with hdfs_client.write(hdfs_path) as writer:\n",
    "    for i, post in enumerate(public_posts):\n",
    "        formatted_post = {\n",
    "            'account_id': post['account']['id'],\n",
    "            'account_username': post['account']['username'],\n",
    "            'account_followers_count': post['account']['followers_count'],\n",
    "            'replies_count': post['replies_count'],\n",
    "            'reblogs_count': post['reblogs_count'],\n",
    "            'favourites_count': post['favourites_count'],\n",
    "            'account_created_at': post['account']['created_at'].isoformat(),  # Convert datetime to ISO format\n",
    "            'url': post['url'],\n",
    "            'language': post['language'],\n",
    "            'content': post['content']\n",
    "        }\n",
    "        writer.write(json.dumps(formatted_post) + '\\n')\n",
    "\n",
    "print('Data saved successfully to HDFS: ' + hdfs_path)"
   ]
  },
  {
   "cell_type": "code",
   "execution_count": null,
   "id": "6e358e6b",
   "metadata": {},
   "outputs": [],
   "source": []
  }
 ],
 "metadata": {
  "kernelspec": {
   "display_name": "Python 3 (ipykernel)",
   "language": "python",
   "name": "python3"
  },
  "language_info": {
   "codemirror_mode": {
    "name": "ipython",
    "version": 3
   },
   "file_extension": ".py",
   "mimetype": "text/x-python",
   "name": "python",
   "nbconvert_exporter": "python",
   "pygments_lexer": "ipython3",
   "version": "3.11.3"
  },
  "vp": {
   "vp_config_version": "1.0.0",
   "vp_menu_width": 273,
   "vp_note_display": false,
   "vp_note_width": 0,
   "vp_position": {
    "width": 278
   },
   "vp_section_display": false,
   "vp_signature": "VisualPython"
  }
 },
 "nbformat": 4,
 "nbformat_minor": 5
}
