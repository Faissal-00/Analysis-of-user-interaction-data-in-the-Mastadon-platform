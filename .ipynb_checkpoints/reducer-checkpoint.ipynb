{
 "cells": [
  {
   "cell_type": "code",
   "execution_count": null,
   "id": "73c48092",
   "metadata": {},
   "outputs": [],
   "source": [
    "#!/usr/bin/env python3\n",
    "\n",
    "import sys\n",
    "import json\n",
    "\n",
    "# Initialize a dictionary to store the counts\n",
    "result_dict = {}\n",
    "\n",
    "for line in sys.stdin:\n",
    "    try:\n",
    "        key, count = line.strip().split('\\t')\n",
    "        count = int(count)\n",
    "\n",
    "        # Extract the prefix (e.g., \"userToots\", \"Tag\") and the identifier (e.g., \"427618\", \"crypto\")\n",
    "        prefix, identifier = key.split('_', 1)\n",
    "\n",
    "        # Create or update the dictionary entry for the prefix\n",
    "        if prefix not in result_dict:\n",
    "            result_dict[prefix] = {}\n",
    "\n",
    "        # Add the count to the identifier in the dictionary\n",
    "        if identifier in result_dict[prefix]:\n",
    "            result_dict[prefix][identifier] += count\n",
    "        else:\n",
    "            result_dict[prefix][identifier] = count\n",
    "\n",
    "    except Exception as e:\n",
    "        print(\"Error:\", str(e))\n",
    "\n",
    "# Serialize the result_dict to JSON format\n",
    "result_json = json.dumps(result_dict, indent=2)\n",
    "\n",
    "# Print the JSON data\n",
    "print(result_json)"
   ]
  }
 ],
 "metadata": {
  "kernelspec": {
   "display_name": "Python 3 (ipykernel)",
   "language": "python",
   "name": "python3"
  },
  "language_info": {
   "codemirror_mode": {
    "name": "ipython",
    "version": 3
   },
   "file_extension": ".py",
   "mimetype": "text/x-python",
   "name": "python",
   "nbconvert_exporter": "python",
   "pygments_lexer": "ipython3",
   "version": "3.11.3"
  },
  "vp": {
   "vp_config_version": "1.0.0",
   "vp_menu_width": 273,
   "vp_note_display": false,
   "vp_note_width": 0,
   "vp_position": {
    "width": 278
   },
   "vp_section_display": false,
   "vp_signature": "VisualPython"
  }
 },
 "nbformat": 4,
 "nbformat_minor": 5
}
